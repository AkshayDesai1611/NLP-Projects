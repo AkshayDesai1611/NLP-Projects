{
 "cells": [
  {
   "cell_type": "code",
   "execution_count": 6,
   "id": "8f68455e",
   "metadata": {},
   "outputs": [],
   "source": [
    "from langchain.embeddings.openai import OpenAIEmbeddings\n",
    "from langchain.text_splitter import CharacterTextSplitter\n",
    "from langchain.vectorstores import ElasticVectorSearch,FAISS,Weaviate"
   ]
  },
  {
   "cell_type": "code",
   "execution_count": 7,
   "id": "eaed50ff",
   "metadata": {},
   "outputs": [],
   "source": [
    "import os\n",
    "import openai\n",
    "from dotenv import load_dotenv,find_dotenv\n",
    "_ = load_dotenv(find_dotenv())"
   ]
  },
  {
   "cell_type": "code",
   "execution_count": 8,
   "id": "e3d31051",
   "metadata": {},
   "outputs": [],
   "source": [
    "os.environ[\"OPENAI_API_KEY\"] = \"YOUR_KEY\""
   ]
  },
  {
   "cell_type": "code",
   "execution_count": 9,
   "id": "035f30a0",
   "metadata": {},
   "outputs": [],
   "source": [
    "embeddings = OpenAIEmbeddings()"
   ]
  },
  {
   "cell_type": "code",
   "execution_count": 10,
   "id": "842cb4e6",
   "metadata": {},
   "outputs": [],
   "source": [
    "import pandas as pd\n",
    "import numpy as np\n",
    "import PyPDF2\n",
    "import re\n",
    "from PyPDF2 import PdfFileReader,PdfFileWriter,PdfReader"
   ]
  },
  {
   "cell_type": "code",
   "execution_count": 11,
   "id": "d75248d2",
   "metadata": {},
   "outputs": [],
   "source": [
    "path = \"E:/ML-Collection/MachineLearning.pdf\"\n",
    "mlpdf = PdfReader(path)\n",
    "mltext=mlpdf.pages[0]"
   ]
  },
  {
   "cell_type": "code",
   "execution_count": 12,
   "id": "340913f9",
   "metadata": {},
   "outputs": [
    {
     "data": {
      "text/plain": [
       "'Machine learning  (ML) is a field devoted to understanding and building methods that let machines \\n\"learn\"  – that is, methods that leverage data to improve computer performance on some set of \\ntasks.[1] \\nMachine learning  algorithms  build a model based on sample data, known as  training data , in order to \\nmake predictions or decisions without being explicitly programmed to do so.[2] Machine learning \\nalgorithms are used in a wide variety of applications, such as in medicine,  email filtering , speech \\nrecognition , agriculture , and  computer vision , where it is difficult or unfeasible to develop \\nconventional algorithms to perform the needed tasks.[3][4] \\nA subset of machine learning is closely related to  computational statistics , which focuses on making \\npredictions using computers, but not all machine learning is statistical learning. The study \\nof mathematical optimization  delivers methods, theory and application domains to the field of \\nmachine learning.  Data mining  is a related field of study, focusing on  exploratory data \\nanalysis  through  unsupervised learning .[6][7] \\nSome implementat ions of machine learning use data and  neural networks  in a way that mimics the \\nworking of a  biological brain .[8][9] \\nIn its application across business problems, machine learning is also referred to as  predictive \\nanalytics . \\nOverview [edit] \\nLearning algorithms work on the basis that strategies, algorithms, and inferences that worked well in \\nthe past are likely to continue working well in the future. These inferences can sometimes be \\nobvious, such as \"since the sun rose every morning for the l ast 10,000 days, it will probably rise \\ntomorrow morning as well\". Other times, they can be more nuanced, such as \"X% of  families  have \\ngeographically separate species with color variants, so there is a Y% chance that \\nundiscovered  black swans  exist\".[10] \\nMachine learning programs can perform tasks without being explicitly programmed to do so. It \\ninvolves computers learning from data provided so that they carry out certain tasks. For simple tasks \\nassigned to computers, it is possible to program algorithms telling the machine how to execute all \\nsteps required to solve the problem at hand; on the computer\\'s part, no learning is needed. For more \\nadvanced tasks, it can be challenging for a human to manually create the needed al gorithms. In \\npractice, it can turn out to be more effective to help the machine develop its own algorithm, rather \\nthan having human programmers specify every needed step.[11] \\nThe discipline of machine learning employs various approaches to teach computers to accomplish \\ntasks where no fully satisfactory algorithm is available. In cases where vast numbers of potential \\nanswers exist, one approach is to label some of t he correct answers as valid. This can then be used \\nas training data for the computer to improve the algorithm(s) it uses to determine correct answers. \\nFor example, to train a system for the task of digital character recognition, the  MNIST  dataset of \\nhandwritten digits has often been used.[11] \\nHistory and relationships to other fields [edit] \\nSee also:  Timeline of machine learning  \\nThe term  machine learning  was coined in 1959 by  Arthur Samuel , an IBM employee and pioneer in \\nthe field of  computer gaming  and artificial intelligence .[12][13] The synonym  self-teaching \\ncomputers  was also used in this time period.[14][15] \\nBy the early 1960s an experimental \"learning machine\" with  punched tape  memory, called \\nCybertron, had been developed by  Raytheon Company  to analyze  sonar  signals, '"
      ]
     },
     "execution_count": 12,
     "metadata": {},
     "output_type": "execute_result"
    }
   ],
   "source": [
    "mltext.extract_text()"
   ]
  },
  {
   "cell_type": "code",
   "execution_count": 13,
   "id": "06d988d4",
   "metadata": {},
   "outputs": [],
   "source": [
    "count = len(mlpdf.pages)\n",
    "text = \"\"\n",
    "\n",
    "for i in range(count):\n",
    "    page = mlpdf.pages[i]\n",
    "    text += page.extract_text()          "
   ]
  },
  {
   "cell_type": "code",
   "execution_count": 1,
   "id": "b82b8060",
   "metadata": {},
   "outputs": [
    {
     "ename": "NameError",
     "evalue": "name 'text' is not defined",
     "output_type": "error",
     "traceback": [
      "\u001b[1;31m---------------------------------------------------------------------------\u001b[0m",
      "\u001b[1;31mNameError\u001b[0m                                 Traceback (most recent call last)",
      "\u001b[1;32m~\\AppData\\Local\\Temp\\ipykernel_2004\\1042022009.py\u001b[0m in \u001b[0;36m<module>\u001b[1;34m\u001b[0m\n\u001b[1;32m----> 1\u001b[1;33m \u001b[0mtext\u001b[0m\u001b[1;33m\u001b[0m\u001b[1;33m\u001b[0m\u001b[0m\n\u001b[0m",
      "\u001b[1;31mNameError\u001b[0m: name 'text' is not defined"
     ]
    }
   ],
   "source": [
    "text"
   ]
  },
  {
   "cell_type": "code",
   "execution_count": 14,
   "id": "6e27a597",
   "metadata": {},
   "outputs": [],
   "source": [
    "HANDLE = '@\\w+\\n\" \",'\n",
    "LINK = 'https?://t\\.co/\\w+'\n",
    "SPECIAL_CHARS = '&lt;|&lt;|&amp;|#'\n",
    "NUM = '[0-9]'\n",
    "MISC = \"[ ]\""
   ]
  },
  {
   "cell_type": "code",
   "execution_count": 15,
   "id": "de136c28",
   "metadata": {},
   "outputs": [],
   "source": [
    "def text_clean(text):\n",
    "    text = re.sub(HANDLE, ' ', text)\n",
    "    text = re.sub(LINK, ' ', text)\n",
    "    text = re.sub(SPECIAL_CHARS, ' ', text)\n",
    "    text = re.sub(NUM, ' ', text)\n",
    "    text = re.sub(MISC, ' ', text)\n",
    "    text = text.replace(\"[ ]\",\"\")\n",
    "    text = text.replace(\"[  ]\",\"\")\n",
    "    text = text.replace(\"\\n\",\"\")\n",
    "    text = text.replace(\",\",\"\")\n",
    "    text = text.replace(\" \\ \",\"\")\n",
    "    return text"
   ]
  },
  {
   "cell_type": "code",
   "execution_count": 16,
   "id": "6eac14bb",
   "metadata": {},
   "outputs": [],
   "source": [
    "processed_text=text_clean(text)"
   ]
  },
  {
   "cell_type": "code",
   "execution_count": 17,
   "id": "2cb39253",
   "metadata": {},
   "outputs": [
    {
     "data": {
      "text/plain": [
       "'Machine learning  (ML) is a field devoted to understanding and building methods that let machines \"learn\"  – that is methods that leverage data to improve computer performance on some set of tasks. Machine learning  algorithms  build a model based on sample data known as  training data  in order to make predictions or decisions without being explicitly programmed to do so. Machine learning algorithms are used in a wide variety of applications such as in medicine  email filtering  speech recognition  agriculture  and  computer vision  where it is difficult or unfeasible to develop conventional algorithms to perform the needed tasks. A subset of machine learning is closely related to  computational statistics  which focuses on making predictions using computers but not all machine learning is statistical learning. The study of mathematical optimization  delivers methods theory and application domains to the field of machine learning.  Data mining  is a related field of study focusing on  exploratory data analysis  through  unsupervised learning . Some implementat ions of machine learning use data and  neural networks  in a way that mimics the working of a  biological brain . In its application across business problems machine learning is also referred to as  predictive analytics . Overview [edit] Learning algorithms work on the basis that strategies algorithms and inferences that worked well in the past are likely to continue working well in the future. These inferences can sometimes be obvious such as \"since the sun rose every morning for the l ast       days it will probably rise tomorrow morning as well\". Other times they can be more nuanced such as \"X% of  families  have geographically separate species with color variants so there is a Y% chance that undiscovered  black swans  exist\". Machine learning programs can perform tasks without being explicitly programmed to do so. It involves computers learning from data provided so that they carry out certain tasks. For simple tasks assigned to computers it is possible to program algorithms telling the machine how to execute all steps required to solve the problem at hand; on the computer\\'s part no learning is needed. For more advanced tasks it can be challenging for a human to manually create the needed al gorithms. In practice it can turn out to be more effective to help the machine develop its own algorithm rather than having human programmers specify every needed step. The discipline of machine learning employs various approaches to teach computers to accomplish tasks where no fully satisfactory algorithm is available. In cases where vast numbers of potential answers exist one approach is to label some of t he correct answers as valid. This can then be used as training data for the computer to improve the algorithm(s) it uses to determine correct answers. For example to train a system for the task of digital character recognition the  MNIST  dataset of handwritten digits has often been used. History and relationships to other fields [edit] See also:  Timeline of machine learning  The term  machine learning  was coined in      by  Arthur Samuel  an IBM employee and pioneer in the field of  computer gaming  and artificial intelligence . The synonym  self-teaching computers  was also used in this time period. By the early     s an experimental \"learning machine\" with  punched tape  memory called Cybertron had been developed by  Raytheon Company  to analyze  sonar  signals electrocardiograms and speech patterns using rudimentary  reinforcement learning . It was repetitively \"trained\" by a human operator/teacher to recognize patterns and equipped with a \" goof\" button to cause it to re -evaluate incorrect decisions. A representative book on research into machine learning during the     s was Nilsson\\'s book on Learning Machines dealing mostly with machine learning for pattern classification. Interest related to pattern recognition continued into the     s as described by Duda and Hart in     . In       a report was given on using teaching strategies so that a  neural network  learns to recognize    characters (   letters    digits and   special symbols) from a computer te rminal. Tom M. Mitchell  provided a widely quoted more formal definition of the algorithms studied in the machine learning field: \"A computer program is said to learn from experience  E with respect to some class of tasks  T and performance measure  P if its performance at tasks in  T as measured by  P improves with experience  E.\" This definition of the tasks in which machine learning is concerned offers a fundamentally  operational definition  rather than defining the field in cognitive terms. This follows  Alan Turing \\'s proposal in his paper \" Computing Machinery and Intelligence \" in which the question \"Can machines think?\" is replaced with the que stion \"Can machines do what we (as thinking entities) can do?\". Modern -day machine learning has two objectives one is to classify data based on models which have been dev eloped the other purpose is to make predictions for future outcomes based on these models. A hypothetical algorithm specific to classifying data may use computer vision of moles coupled with supervised learning in order to train it to classify the cancero us moles. A machine learning algorithm for stock trading may inform the trader of future potential predictions.  '"
      ]
     },
     "execution_count": 17,
     "metadata": {},
     "output_type": "execute_result"
    }
   ],
   "source": [
    "mtext = processed_text\n",
    "mtext"
   ]
  },
  {
   "cell_type": "code",
   "execution_count": 18,
   "id": "51130eef",
   "metadata": {},
   "outputs": [],
   "source": [
    "text_splitter = CharacterTextSplitter(\n",
    "    separator = \".\",\n",
    "    chunk_size = len(mtext)//3,\n",
    "    chunk_overlap = 0,\n",
    "    length_function = len,\n",
    ")"
   ]
  },
  {
   "cell_type": "code",
   "execution_count": 19,
   "id": "5f61fff4",
   "metadata": {},
   "outputs": [],
   "source": [
    "documents = text_splitter.split_text(mtext)"
   ]
  },
  {
   "cell_type": "code",
   "execution_count": 20,
   "id": "ece2ec7c",
   "metadata": {},
   "outputs": [],
   "source": [
    "docs_embeddings = FAISS.from_texts(documents,embeddings)"
   ]
  },
  {
   "cell_type": "code",
   "execution_count": 21,
   "id": "171955bf",
   "metadata": {},
   "outputs": [
    {
     "data": {
      "text/plain": [
       "<langchain.vectorstores.faiss.FAISS at 0x1f867174970>"
      ]
     },
     "execution_count": 21,
     "metadata": {},
     "output_type": "execute_result"
    }
   ],
   "source": [
    "docs_embeddings"
   ]
  },
  {
   "cell_type": "code",
   "execution_count": 22,
   "id": "b657a3fc",
   "metadata": {},
   "outputs": [],
   "source": [
    "from langchain.chains.question_answering import load_qa_chain"
   ]
  },
  {
   "cell_type": "code",
   "execution_count": 23,
   "id": "dc6bf2cd",
   "metadata": {},
   "outputs": [],
   "source": [
    "from langchain.llms import OpenAI"
   ]
  },
  {
   "cell_type": "code",
   "execution_count": 24,
   "id": "1e815828",
   "metadata": {},
   "outputs": [],
   "source": [
    "chain = load_qa_chain(OpenAI(),chain_type = \"stuff\")"
   ]
  },
  {
   "cell_type": "code",
   "execution_count": 32,
   "id": "17d6179d",
   "metadata": {},
   "outputs": [],
   "source": [
    "def answer_the_query(query):\n",
    "    docs = docs_embeddings.similarity_search(query)\n",
    "    print(\"Document:\",docs[i].page_content)\n",
    "    print(\"\\nQuestion:\",query)\n",
    "    print(\"Answer:\",chain.run(input_documents=docs,question=query))"
   ]
  },
  {
   "cell_type": "code",
   "execution_count": 33,
   "id": "1a0297f9",
   "metadata": {},
   "outputs": [
    {
     "name": "stdout",
     "output_type": "stream",
     "text": [
      "Document: Other times they can be more nuanced such as \"X% of  families  have geographically separate species with color variants so there is a Y% chance that undiscovered  black swans  exist\". Machine learning programs can perform tasks without being explicitly programmed to do so. It involves computers learning from data provided so that they carry out certain tasks. For simple tasks assigned to computers it is possible to program algorithms telling the machine how to execute all steps required to solve the problem at hand; on the computer's part no learning is needed. For more advanced tasks it can be challenging for a human to manually create the needed al gorithms. In practice it can turn out to be more effective to help the machine develop its own algorithm rather than having human programmers specify every needed step. The discipline of machine learning employs various approaches to teach computers to accomplish tasks where no fully satisfactory algorithm is available. In cases where vast numbers of potential answers exist one approach is to label some of t he correct answers as valid. This can then be used as training data for the computer to improve the algorithm(s) it uses to determine correct answers. For example to train a system for the task of digital character recognition the  MNIST  dataset of handwritten digits has often been used. History and relationships to other fields [edit] See also:  Timeline of machine learning  The term  machine learning  was coined in      by  Arthur Samuel  an IBM employee and pioneer in the field of  computer gaming  and artificial intelligence . The synonym  self-teaching computers  was also used in this time period\n",
      "\n",
      "Question: What is machine learning\n",
      "Answer:  Machine learning is a field devoted to understanding and building methods that let machines \"learn\" – that is methods that leverage data to improve computer performance on some set of tasks. Machine learning algorithms build a model based on sample data known as training data in order to make predictions or decisions without being explicitly programmed to do so.\n"
     ]
    }
   ],
   "source": [
    "answer_the_query(\"What is machine learning\")"
   ]
  },
  {
   "cell_type": "code",
   "execution_count": 34,
   "id": "6b35137c",
   "metadata": {},
   "outputs": [
    {
     "name": "stdout",
     "output_type": "stream",
     "text": [
      "Document: Modern -day machine learning has two objectives one is to classify data based on models which have been dev eloped the other purpose is to make predictions for future outcomes based on these models. A hypothetical algorithm specific to classifying data may use computer vision of moles coupled with supervised learning in order to train it to classify the cancero us moles. A machine learning algorithm for stock trading may inform the trader of future potential predictions.\n",
      "\n",
      "Question: What is data mining\n",
      "Answer:  Data mining is a related field of study focusing on exploratory data analysis through unsupervised learning.\n"
     ]
    }
   ],
   "source": [
    "answer_the_query(\"What is data mining\")"
   ]
  },
  {
   "cell_type": "code",
   "execution_count": 35,
   "id": "840105a1",
   "metadata": {},
   "outputs": [
    {
     "name": "stdout",
     "output_type": "stream",
     "text": [
      "Document: Other times they can be more nuanced such as \"X% of  families  have geographically separate species with color variants so there is a Y% chance that undiscovered  black swans  exist\". Machine learning programs can perform tasks without being explicitly programmed to do so. It involves computers learning from data provided so that they carry out certain tasks. For simple tasks assigned to computers it is possible to program algorithms telling the machine how to execute all steps required to solve the problem at hand; on the computer's part no learning is needed. For more advanced tasks it can be challenging for a human to manually create the needed al gorithms. In practice it can turn out to be more effective to help the machine develop its own algorithm rather than having human programmers specify every needed step. The discipline of machine learning employs various approaches to teach computers to accomplish tasks where no fully satisfactory algorithm is available. In cases where vast numbers of potential answers exist one approach is to label some of t he correct answers as valid. This can then be used as training data for the computer to improve the algorithm(s) it uses to determine correct answers. For example to train a system for the task of digital character recognition the  MNIST  dataset of handwritten digits has often been used. History and relationships to other fields [edit] See also:  Timeline of machine learning  The term  machine learning  was coined in      by  Arthur Samuel  an IBM employee and pioneer in the field of  computer gaming  and artificial intelligence . The synonym  self-teaching computers  was also used in this time period\n",
      "\n",
      "Question: Who coined the term machine learning\n",
      "Answer:  Arthur Samuel\n"
     ]
    }
   ],
   "source": [
    "answer_the_query(\"Who coined the term machine learning\")"
   ]
  },
  {
   "cell_type": "code",
   "execution_count": 36,
   "id": "e31a01e1",
   "metadata": {},
   "outputs": [
    {
     "name": "stdout",
     "output_type": "stream",
     "text": [
      "Document: Machine learning  (ML) is a field devoted to understanding and building methods that let machines \"learn\"  – that is methods that leverage data to improve computer performance on some set of tasks. Machine learning  algorithms  build a model based on sample data known as  training data  in order to make predictions or decisions without being explicitly programmed to do so. Machine learning algorithms are used in a wide variety of applications such as in medicine  email filtering  speech recognition  agriculture  and  computer vision  where it is difficult or unfeasible to develop conventional algorithms to perform the needed tasks. A subset of machine learning is closely related to  computational statistics  which focuses on making predictions using computers but not all machine learning is statistical learning. The study of mathematical optimization  delivers methods theory and application domains to the field of machine learning.  Data mining  is a related field of study focusing on  exploratory data analysis  through  unsupervised learning . Some implementat ions of machine learning use data and  neural networks  in a way that mimics the working of a  biological brain . In its application across business problems machine learning is also referred to as  predictive analytics . Overview [edit] Learning algorithms work on the basis that strategies algorithms and inferences that worked well in the past are likely to continue working well in the future. These inferences can sometimes be obvious such as \"since the sun rose every morning for the l ast       days it will probably rise tomorrow morning as well\"\n",
      "\n",
      "Question: How do machine learning algorithms build models\n",
      "Answer:  Machine learning algorithms build models based on sample data known as training data in order to make predictions or decisions without being explicitly programmed to do so.\n"
     ]
    }
   ],
   "source": [
    "answer_the_query(\"How do machine learning algorithms build models\")"
   ]
  },
  {
   "cell_type": "code",
   "execution_count": null,
   "id": "633faf04",
   "metadata": {},
   "outputs": [],
   "source": []
  }
 ],
 "metadata": {
  "kernelspec": {
   "display_name": "Python 3 (ipykernel)",
   "language": "python",
   "name": "python3"
  },
  "language_info": {
   "codemirror_mode": {
    "name": "ipython",
    "version": 3
   },
   "file_extension": ".py",
   "mimetype": "text/x-python",
   "name": "python",
   "nbconvert_exporter": "python",
   "pygments_lexer": "ipython3",
   "version": "3.9.13"
  }
 },
 "nbformat": 4,
 "nbformat_minor": 5
}
